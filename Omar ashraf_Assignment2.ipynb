{
 "cells": [
  {
   "cell_type": "code",
   "execution_count": 8,
   "id": "6f52664b",
   "metadata": {},
   "outputs": [],
   "source": [
    "#Merge and Sort Two Lists"
   ]
  },
  {
   "cell_type": "code",
   "execution_count": 9,
   "id": "3f5e628a",
   "metadata": {},
   "outputs": [
    {
     "name": "stdout",
     "output_type": "stream",
     "text": [
      "[0, 1, 2, 3, 4, 5]\n"
     ]
    }
   ],
   "source": [
    "# Example Input\n",
    "list1 = [3, 1, 4]\n",
    "list2 = [2, 5, 0]\n",
    "\n",
    "# Merge the two lists\n",
    "merged_list = list1 + list2\n",
    "\n",
    "# Bubble sort\n",
    "n = len(merged_list)\n",
    "for i in range(n):\n",
    "    for j in range(0, n-i-1):\n",
    "        if merged_list[j] > merged_list[j+1]:\n",
    "            # Swap if the element found is greater than the next element\n",
    "            merged_list[j], merged_list[j+1] = merged_list[j+1], merged_list[j]\n",
    "\n",
    "# Output the sorted list\n",
    "print(merged_list)\n"
   ]
  },
  {
   "cell_type": "code",
   "execution_count": 10,
   "id": "7ee42dc6",
   "metadata": {},
   "outputs": [],
   "source": [
    "#Task 2: Repeat Characters in a String"
   ]
  },
  {
   "cell_type": "code",
   "execution_count": 11,
   "id": "5effebfe",
   "metadata": {},
   "outputs": [
    {
     "name": "stdout",
     "output_type": "stream",
     "text": [
      "aaabbbccc\n"
     ]
    }
   ],
   "source": [
    "# Example Input\n",
    "input_string = \"abc\"\n",
    "n = 3\n",
    "\n",
    "# Repeat each character n times\n",
    "result = ''.join(char * n for char in input_string)\n",
    "\n",
    "# Output the repeated string\n",
    "print(result)\n"
   ]
  },
  {
   "cell_type": "code",
   "execution_count": null,
   "id": "10fcd2d5",
   "metadata": {},
   "outputs": [],
   "source": []
  }
 ],
 "metadata": {
  "kernelspec": {
   "display_name": "Python 3 (ipykernel)",
   "language": "python",
   "name": "python3"
  },
  "language_info": {
   "codemirror_mode": {
    "name": "ipython",
    "version": 3
   },
   "file_extension": ".py",
   "mimetype": "text/x-python",
   "name": "python",
   "nbconvert_exporter": "python",
   "pygments_lexer": "ipython3",
   "version": "3.11.7"
  }
 },
 "nbformat": 4,
 "nbformat_minor": 5
}
